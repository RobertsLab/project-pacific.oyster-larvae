{
 "cells": [
  {
   "cell_type": "markdown",
   "metadata": {},
   "source": [
    "# In this notebook I will illustrate how to remote login to Emu and convert all the .raw files to .mzXML"
   ]
  },
  {
   "cell_type": "code",
   "execution_count": 1,
   "metadata": {
    "collapsed": false
   },
   "outputs": [
    {
     "data": {
      "text/plain": [
       "u'/home/srlab/Documents/rhonda'"
      ]
     },
     "execution_count": 1,
     "metadata": {},
     "output_type": "execute_result"
    }
   ],
   "source": [
    "pwd"
   ]
  },
  {
   "cell_type": "markdown",
   "metadata": {},
   "source": [
    "## To ssh into ipython notebook on Emu:\n",
    "\n",
    "1) I opened a Git Bash terminal locally and entered\n",
    "`ssh -N -L localhost:8000:localhost:7000 srlab@128.95.149.26 to login into Emu linux machine`\n",
    "\n",
    "2) I was prompted for the password and entered it\n",
    "\n",
    "3) Terminal is active but it won't return any command prompt. You have created a tunnel into Emu\n",
    "\n",
    "### To start ipython on Emu\n",
    "\n",
    "4) Open a new Git Bash terminal, but keep the first one open.\n",
    "\n",
    "5) Enter `ssh srlab@128.95.149.26`\n",
    "\n",
    "6) Input password\n",
    "\n",
    "7) Enter `ipython notebook --no-browser --port=7000`\n",
    "\n",
    "## Now you are remotely logged into Emu and have started ipython without the browser.\n",
    "\n",
    "8) Open a browser locally and enter `localhost:8000`\n",
    "\n",
    "9) This will open Jupyter in your browser on the Emu machine. It will prompt you for the token which you can find in the second Git Bash terminal you opened."
   ]
  },
  {
   "cell_type": "code",
   "execution_count": 2,
   "metadata": {
    "collapsed": false
   },
   "outputs": [
    {
     "name": "stdout",
     "output_type": "stream",
     "text": [
      "/home/srlab/Documents/rhonda2016oyster/trochophora/C_gigas_proteome2016\n"
     ]
    }
   ],
   "source": [
    "cd /home/srlab/Documents/rhonda2016oyster/trochophora/C_gigas_proteome2016"
   ]
  },
  {
   "cell_type": "code",
   "execution_count": 3,
   "metadata": {
    "collapsed": false
   },
   "outputs": [
    {
     "name": "stdout",
     "output_type": "stream",
     "text": [
      "\u001b[0m\u001b[01;32m20161205_Blank_05.raw\u001b[0m*\r\n",
      "\u001b[01;32m20161205_Blank_06.raw\u001b[0m*\r\n",
      "\u001b[01;32m20161205_Blank_07.raw\u001b[0m*\r\n",
      "\u001b[01;32m20161205_Blank_08.raw\u001b[0m*\r\n",
      "\u001b[01;32m20161205_Blank_09.raw\u001b[0m*\r\n",
      "\u001b[01;32m20161205_Blank_10A.raw\u001b[0m*\r\n",
      "\u001b[01;32m20161205_Blank_11A.raw\u001b[0m*\r\n",
      "\u001b[01;32m20161205_Blank_12A.raw\u001b[0m*\r\n",
      "\u001b[01;32m20161205_PRTC+BSA_01.raw\u001b[0m*\r\n",
      "\u001b[01;32m20161205_PRTC+BSA_02.raw\u001b[0m*\r\n",
      "\u001b[01;32m20161205_PRTC+BSA_03.raw\u001b[0m*\r\n",
      "\u001b[01;32m20161205_PRTC+BSA_04.raw\u001b[0m*\r\n",
      "\u001b[01;32m20161205_PRTC+BSA_05.raw\u001b[0m*\r\n",
      "\u001b[01;32m20161205_PRTC+BSA_06.raw\u001b[0m*\r\n",
      "\u001b[01;32m20161205_PRTC+BSA_07.raw\u001b[0m*\r\n",
      "\u001b[01;32m20161205_PRTC+BSA_08.raw\u001b[0m*\r\n",
      "\u001b[01;32m20161205_PRTC+BSA_09.raw\u001b[0m*\r\n",
      "\u001b[01;32m20161205_PRTC+BSA_10.raw\u001b[0m*\r\n",
      "\u001b[01;32m20161205_PRTC+BSA_11.raw\u001b[0m*\r\n",
      "\u001b[01;32m20161205_Sample_11A.raw\u001b[0m*\r\n",
      "\u001b[01;32m20161205_Sample_11.raw\u001b[0m*\r\n",
      "\u001b[01;32m20161205_Sample_12A.raw\u001b[0m*\r\n",
      "\u001b[01;32m20161205_Sample_12.raw\u001b[0m*\r\n",
      "\u001b[01;32m20161205_Sample_16A.raw\u001b[0m*\r\n",
      "\u001b[01;32m20161205_Sample_16.raw\u001b[0m*\r\n",
      "\u001b[01;32m20161205_Sample_19A.raw\u001b[0m*\r\n",
      "\u001b[01;32m20161205_Sample_19.raw\u001b[0m*\r\n",
      "\u001b[01;32m20161205_Sample_1A.raw\u001b[0m*\r\n",
      "\u001b[01;32m20161205_Sample_1.raw\u001b[0m*\r\n",
      "\u001b[01;32m20161205_Sample_20A.raw\u001b[0m*\r\n",
      "\u001b[01;32m20161205_Sample_20.raw\u001b[0m*\r\n",
      "\u001b[01;32m20161205_Sample_24A.raw\u001b[0m*\r\n",
      "\u001b[01;32m20161205_Sample_24.raw\u001b[0m*\r\n",
      "\u001b[01;32m20161205_Sample_27A.raw\u001b[0m*\r\n",
      "\u001b[01;32m20161205_Sample_27.raw\u001b[0m*\r\n",
      "\u001b[01;32m20161205_Sample_28_161205200228.raw\u001b[0m*\r\n",
      "\u001b[01;32m20161205_Sample_28A.raw\u001b[0m*\r\n",
      "\u001b[01;32m20161205_Sample_28.raw\u001b[0m*\r\n",
      "\u001b[01;32m20161205_Sample_32A.raw\u001b[0m*\r\n",
      "\u001b[01;32m20161205_Sample_32.raw\u001b[0m*\r\n",
      "\u001b[01;32m20161205_Sample_35A.raw\u001b[0m*\r\n",
      "\u001b[01;32m20161205_Sample_35.raw\u001b[0m*\r\n",
      "\u001b[01;32m20161205_Sample_36A.raw\u001b[0m*\r\n",
      "\u001b[01;32m20161205_Sample_36.raw\u001b[0m*\r\n",
      "\u001b[01;32m20161205_Sample_3A.raw\u001b[0m*\r\n",
      "\u001b[01;32m20161205_Sample_3.raw\u001b[0m*\r\n",
      "\u001b[01;32m20161205_Sample_40A.raw\u001b[0m*\r\n",
      "\u001b[01;32m20161205_Sample_40.raw\u001b[0m*\r\n",
      "\u001b[01;32m20161205_Sample_43A.raw\u001b[0m*\r\n",
      "\u001b[01;32m20161205_Sample_43.raw\u001b[0m*\r\n",
      "\u001b[01;32m20161205_Sample_44A.raw\u001b[0m*\r\n",
      "\u001b[01;32m20161205_Sample_44.raw\u001b[0m*\r\n",
      "\u001b[01;32m20161205_Sample_48A.raw\u001b[0m*\r\n",
      "\u001b[01;32m20161205_Sample_48.raw\u001b[0m*\r\n",
      "\u001b[01;32m20161205_Sample_4A.raw\u001b[0m*\r\n",
      "\u001b[01;32m20161205_Sample_4.raw\u001b[0m*\r\n",
      "\u001b[01;32m20161205_Sample_51A.raw\u001b[0m*\r\n",
      "\u001b[01;32m20161205_Sample_51.raw\u001b[0m*\r\n",
      "\u001b[01;32m20161205_Sample_52A.raw\u001b[0m*\r\n",
      "\u001b[01;32m20161205_Sample_52.raw\u001b[0m*\r\n",
      "\u001b[01;32m20161205_Sample_56A.raw\u001b[0m*\r\n",
      "\u001b[01;32m20161205_Sample_56.raw\u001b[0m*\r\n",
      "\u001b[01;32m20161205_Sample_8A.raw\u001b[0m*\r\n",
      "\u001b[01;32m20161205_Sample_8.raw\u001b[0m*\r\n",
      "\u001b[01;32mblank9_method1.PNG\u001b[0m*\r\n",
      "\u001b[01;32mblank9_method2.PNG\u001b[0m*\r\n",
      "\u001b[01;32mblank9_method3.PNG\u001b[0m*\r\n",
      "\u001b[01;32mblank9_sampleinfo.PNG\u001b[0m*\r\n",
      "\u001b[01;32mmd5.txt\u001b[0m*\r\n",
      "\u001b[01;32mpressure.PNG\u001b[0m*\r\n",
      "\u001b[01;32mPRTC8_method1.PNG\u001b[0m*\r\n",
      "\u001b[01;32mPRTC8_method2.PNG\u001b[0m*\r\n",
      "\u001b[01;32mPRTC8_sampleinfo.PNG\u001b[0m*\r\n",
      "\u001b[01;32mPRTCplusBSA myco April 2016.sky\u001b[0m*\r\n",
      "\u001b[01;32mPRTCplusBSA oyster seed Dec 2016.sky\u001b[0m*\r\n",
      "\u001b[01;32mPRTCplusBSA oyster seed Dec 2016.skyd\u001b[0m*\r\n",
      "\u001b[01;32mPRTCplusBSA oyster seed Dec 2016.sky.view\u001b[0m*\r\n",
      "\u001b[01;32msample16A_method1.PNG\u001b[0m*\r\n",
      "\u001b[01;32msample16A_method2.PNG\u001b[0m*\r\n",
      "\u001b[01;32msample40_sampleinfo.PNG\u001b[0m*\r\n"
     ]
    }
   ],
   "source": [
    "ls"
   ]
  },
  {
   "cell_type": "code",
   "execution_count": 4,
   "metadata": {
    "collapsed": false
   },
   "outputs": [
    {
     "name": "stdout",
     "output_type": "stream",
     "text": [
      "/home/shared/ReAdW\n"
     ]
    }
   ],
   "source": [
    "cd /home/shared/ReAdW"
   ]
  },
  {
   "cell_type": "code",
   "execution_count": 9,
   "metadata": {
    "collapsed": false
   },
   "outputs": [
    {
     "name": "stdout",
     "output_type": "stream",
     "text": [
      "\u001b[?1h\u001b=Application tried to create a window, but no driver could be loaded.\n",
      "Make sure that your X server is running and that $DISPLAY is set correctly.\n",
      "err:systray:initialize_systray Could not create tray window\n",
      "fixme:thread:GetThreadPreferredUILanguages 52, 0x32fafc, 0x32fc74 0x32fb04\n",
      "fixme:heap:HeapSetInformation (nil) 1 (nil) 0\n",
      "ReAdW 2016.1.0(build Jun 21 2016 11:13:06)\n",
      "Xcalibur interface initialized (5).\n",
      "(Thermo lib opened file /home/srlab/Documents/rhonda2016oyster/trochophora/C_gigas_proteome2016/20161205_Sample_1.raw)\n",
      "file version is 66, interface version is 2.0 or greater\n",
      "file should contain scan numbers 1 through 109165\n",
      "(got computer name: emu)\n",
      "Error opening output file /home/srlab/Documents/rhonda2016oyster/trochophora/C_gigas_proteome2016/20161205_Sample_1.mzXML\n",
      "unable to open /home/srlab/Documents/rhonda2016oyster/trochophora/C_gigas_proteome2016/20161205_Sample_1.mzXML\n"
     ]
    }
   ],
   "source": [
    "!WINEPREFIX=~/.wine32 wine ReAdW.2016010.msfilereader.exe \\\n",
    "~/Documents/rhonda2016oyster/trochophora/C_gigas_proteome2016/20161205_Sample_1.raw \\\n",
    "~/Documents/rhonda2016oyster/trochophora/C_gigas_proteome2016/20161205_Sample_1.mzXML"
   ]
  },
  {
   "cell_type": "code",
   "execution_count": 6,
   "metadata": {
    "collapsed": false
   },
   "outputs": [
    {
     "name": "stdout",
     "output_type": "stream",
     "text": [
      "/home/srlab/Documents/rhonda2016oyster/trochophora/C_gigas_proteome2016\n"
     ]
    }
   ],
   "source": [
    "cd /home/srlab/Documents/rhonda2016oyster/trochophora/C_gigas_proteome2016"
   ]
  },
  {
   "cell_type": "code",
   "execution_count": 7,
   "metadata": {
    "collapsed": false
   },
   "outputs": [
    {
     "name": "stdout",
     "output_type": "stream",
     "text": [
      "\u001b[0m\u001b[01;32m20161205_Blank_05.raw\u001b[0m*\r\n",
      "\u001b[01;32m20161205_Blank_06.raw\u001b[0m*\r\n",
      "\u001b[01;32m20161205_Blank_07.raw\u001b[0m*\r\n",
      "\u001b[01;32m20161205_Blank_08.raw\u001b[0m*\r\n",
      "\u001b[01;32m20161205_Blank_09.raw\u001b[0m*\r\n",
      "\u001b[01;32m20161205_Blank_10A.raw\u001b[0m*\r\n",
      "\u001b[01;32m20161205_Blank_11A.raw\u001b[0m*\r\n",
      "\u001b[01;32m20161205_Blank_12A.raw\u001b[0m*\r\n",
      "\u001b[01;32m20161205_PRTC+BSA_01.raw\u001b[0m*\r\n",
      "\u001b[01;32m20161205_PRTC+BSA_02.raw\u001b[0m*\r\n",
      "\u001b[01;32m20161205_PRTC+BSA_03.raw\u001b[0m*\r\n",
      "\u001b[01;32m20161205_PRTC+BSA_04.raw\u001b[0m*\r\n",
      "\u001b[01;32m20161205_PRTC+BSA_05.raw\u001b[0m*\r\n",
      "\u001b[01;32m20161205_PRTC+BSA_06.raw\u001b[0m*\r\n",
      "\u001b[01;32m20161205_PRTC+BSA_07.raw\u001b[0m*\r\n",
      "\u001b[01;32m20161205_PRTC+BSA_08.raw\u001b[0m*\r\n",
      "\u001b[01;32m20161205_PRTC+BSA_09.raw\u001b[0m*\r\n",
      "\u001b[01;32m20161205_PRTC+BSA_10.raw\u001b[0m*\r\n",
      "\u001b[01;32m20161205_PRTC+BSA_11.raw\u001b[0m*\r\n",
      "\u001b[01;32m20161205_Sample_11A.raw\u001b[0m*\r\n",
      "\u001b[01;32m20161205_Sample_11.raw\u001b[0m*\r\n",
      "\u001b[01;32m20161205_Sample_12A.raw\u001b[0m*\r\n",
      "\u001b[01;32m20161205_Sample_12.raw\u001b[0m*\r\n",
      "\u001b[01;32m20161205_Sample_16A.raw\u001b[0m*\r\n",
      "\u001b[01;32m20161205_Sample_16.raw\u001b[0m*\r\n",
      "\u001b[01;32m20161205_Sample_19A.raw\u001b[0m*\r\n",
      "\u001b[01;32m20161205_Sample_19.raw\u001b[0m*\r\n",
      "\u001b[01;32m20161205_Sample_1A.raw\u001b[0m*\r\n",
      "\u001b[01;32m20161205_Sample_1.raw\u001b[0m*\r\n",
      "\u001b[01;32m20161205_Sample_20A.raw\u001b[0m*\r\n",
      "\u001b[01;32m20161205_Sample_20.raw\u001b[0m*\r\n",
      "\u001b[01;32m20161205_Sample_24A.raw\u001b[0m*\r\n",
      "\u001b[01;32m20161205_Sample_24.raw\u001b[0m*\r\n",
      "\u001b[01;32m20161205_Sample_27A.raw\u001b[0m*\r\n",
      "\u001b[01;32m20161205_Sample_27.raw\u001b[0m*\r\n",
      "\u001b[01;32m20161205_Sample_28_161205200228.raw\u001b[0m*\r\n",
      "\u001b[01;32m20161205_Sample_28A.raw\u001b[0m*\r\n",
      "\u001b[01;32m20161205_Sample_28.raw\u001b[0m*\r\n",
      "\u001b[01;32m20161205_Sample_32A.raw\u001b[0m*\r\n",
      "\u001b[01;32m20161205_Sample_32.raw\u001b[0m*\r\n",
      "\u001b[01;32m20161205_Sample_35A.raw\u001b[0m*\r\n",
      "\u001b[01;32m20161205_Sample_35.raw\u001b[0m*\r\n",
      "\u001b[01;32m20161205_Sample_36A.raw\u001b[0m*\r\n",
      "\u001b[01;32m20161205_Sample_36.raw\u001b[0m*\r\n",
      "\u001b[01;32m20161205_Sample_3A.raw\u001b[0m*\r\n",
      "\u001b[01;32m20161205_Sample_3.raw\u001b[0m*\r\n",
      "\u001b[01;32m20161205_Sample_40A.raw\u001b[0m*\r\n",
      "\u001b[01;32m20161205_Sample_40.raw\u001b[0m*\r\n",
      "\u001b[01;32m20161205_Sample_43A.raw\u001b[0m*\r\n",
      "\u001b[01;32m20161205_Sample_43.raw\u001b[0m*\r\n",
      "\u001b[01;32m20161205_Sample_44A.raw\u001b[0m*\r\n",
      "\u001b[01;32m20161205_Sample_44.raw\u001b[0m*\r\n",
      "\u001b[01;32m20161205_Sample_48A.raw\u001b[0m*\r\n",
      "\u001b[01;32m20161205_Sample_48.raw\u001b[0m*\r\n",
      "\u001b[01;32m20161205_Sample_4A.raw\u001b[0m*\r\n",
      "\u001b[01;32m20161205_Sample_4.raw\u001b[0m*\r\n",
      "\u001b[01;32m20161205_Sample_51A.raw\u001b[0m*\r\n",
      "\u001b[01;32m20161205_Sample_51.raw\u001b[0m*\r\n",
      "\u001b[01;32m20161205_Sample_52A.raw\u001b[0m*\r\n",
      "\u001b[01;32m20161205_Sample_52.raw\u001b[0m*\r\n",
      "\u001b[01;32m20161205_Sample_56A.raw\u001b[0m*\r\n",
      "\u001b[01;32m20161205_Sample_56.raw\u001b[0m*\r\n",
      "\u001b[01;32m20161205_Sample_8A.raw\u001b[0m*\r\n",
      "\u001b[01;32m20161205_Sample_8.raw\u001b[0m*\r\n",
      "\u001b[01;32mblank9_method1.PNG\u001b[0m*\r\n",
      "\u001b[01;32mblank9_method2.PNG\u001b[0m*\r\n",
      "\u001b[01;32mblank9_method3.PNG\u001b[0m*\r\n",
      "\u001b[01;32mblank9_sampleinfo.PNG\u001b[0m*\r\n",
      "\u001b[01;32mmd5.txt\u001b[0m*\r\n",
      "\u001b[01;32mpressure.PNG\u001b[0m*\r\n",
      "\u001b[01;32mPRTC8_method1.PNG\u001b[0m*\r\n",
      "\u001b[01;32mPRTC8_method2.PNG\u001b[0m*\r\n",
      "\u001b[01;32mPRTC8_sampleinfo.PNG\u001b[0m*\r\n",
      "\u001b[01;32mPRTCplusBSA myco April 2016.sky\u001b[0m*\r\n",
      "\u001b[01;32mPRTCplusBSA oyster seed Dec 2016.sky\u001b[0m*\r\n",
      "\u001b[01;32mPRTCplusBSA oyster seed Dec 2016.skyd\u001b[0m*\r\n",
      "\u001b[01;32mPRTCplusBSA oyster seed Dec 2016.sky.view\u001b[0m*\r\n",
      "\u001b[01;32msample16A_method1.PNG\u001b[0m*\r\n",
      "\u001b[01;32msample16A_method2.PNG\u001b[0m*\r\n",
      "\u001b[01;32msample40_sampleinfo.PNG\u001b[0m*\r\n"
     ]
    }
   ],
   "source": [
    "ls"
   ]
  },
  {
   "cell_type": "code",
   "execution_count": 27,
   "metadata": {
    "collapsed": false
   },
   "outputs": [
    {
     "name": "stdout",
     "output_type": "stream",
     "text": [
      "/home/shared/ReAdW\n"
     ]
    }
   ],
   "source": [
    "cd /home/shared/ReAdW"
   ]
  },
  {
   "cell_type": "code",
   "execution_count": 3,
   "metadata": {
    "collapsed": false
   },
   "outputs": [
    {
     "name": "stdout",
     "output_type": "stream",
     "text": [
      "\u001b[?1h\u001b=Application tried to create a window, but no driver could be loaded.\n",
      "Make sure that your X server is running and that $DISPLAY is set correctly.\n",
      "err:systray:initialize_systray Could not create tray window\n",
      "fixme:thread:GetThreadPreferredUILanguages 52, 0x32fafc, 0x32fc74 0x32fb04\n",
      "fixme:heap:HeapSetInformation (nil) 1 (nil) 0\n",
      "ReAdW 2016.1.0(build Jun 21 2016 11:13:06)\n",
      "Xcalibur interface initialized (5).\n",
      "(Thermo lib opened file /home/srlab/Documents/rhonda2016oyster/trochophora/C_gigas_proteome2016/20161205_Sample_1.raw)\n",
      "file version is 66, interface version is 2.0 or greater\n",
      "file should contain scan numbers 1 through 109165\n",
      "(got computer name: emu)\n",
      "Calculating sha1-sum of mzXML\n",
      "--done (mzXML sha1):9428790b3482b2d7b1390e292f51402d58b3a782\n"
     ]
    }
   ],
   "source": [
    "!WINEPREFIX=~/.wine32 wine ReAdW.2016010.msfilereader.exe \\\n",
    "~/Documents/rhonda2016oyster/trochophora/C_gigas_proteome2016/20161205_Sample_1.raw \\\n",
    "~/Documents/rhonda/20161205_Sample_1.mzXML"
   ]
  },
  {
   "cell_type": "code",
   "execution_count": 5,
   "metadata": {
    "collapsed": false
   },
   "outputs": [
    {
     "name": "stdout",
     "output_type": "stream",
     "text": [
      "\u001b[?1h\u001b=Application tried to create a window, but no driver could be loaded.\n",
      "Make sure that your X server is running and that $DISPLAY is set correctly.\n",
      "err:systray:initialize_systray Could not create tray window\n",
      "fixme:thread:GetThreadPreferredUILanguages 52, 0x32fafc, 0x32fc74 0x32fb04\n",
      "fixme:heap:HeapSetInformation (nil) 1 (nil) 0\n",
      "ReAdW 2016.1.0(build Jun 21 2016 11:13:06)\n",
      "Xcalibur interface initialized (5).\n",
      "(Thermo lib opened file /home/srlab/Documents/rhonda2016oyster/trochophora/C_gigas_proteome2016/20161205_Blank_05.raw)\n",
      "file version is 66, interface version is 2.0 or greater\n",
      "file should contain scan numbers 1 through 6344\n",
      "(got computer name: emu)\n",
      "Error opening output file /home/srlab/Documents/rhonda2016oyster/trochophora/C_gigas_proteome2016/20161205_Blank_06.raw\n",
      "unable to open /home/srlab/Documents/rhonda2016oyster/trochophora/C_gigas_proteome2016/20161205_Blank_06.raw\n"
     ]
    }
   ],
   "source": [
    "!WINEPREFIX=~/.wine32 wine ReAdW.2016010.msfilereader.exe \\\n",
    "~/Documents/rhonda2016oyster/trochophora/C_gigas_proteome2016/*.raw \\\n",
    "~/Documents/rhonda/*.mzXML"
   ]
  },
  {
   "cell_type": "code",
   "execution_count": 34,
   "metadata": {
    "collapsed": false
   },
   "outputs": [
    {
     "name": "stdout",
     "output_type": "stream",
     "text": [
      "/home/srlab/Documents/rhonda2016oyster/trochophora/C_gigas_Proteome2016\n"
     ]
    }
   ],
   "source": [
    "cd ~/Documents/rhonda2016oyster/trochophora/C_gigas_Proteome2016"
   ]
  },
  {
   "cell_type": "code",
   "execution_count": 35,
   "metadata": {
    "collapsed": false
   },
   "outputs": [
    {
     "name": "stdout",
     "output_type": "stream",
     "text": [
      "./20161205_Sample_16.raw\r\n",
      "./20161205_Sample_27.raw\r\n",
      "./20161205_Sample_28.raw\r\n",
      "./20161205_Sample_28_161205200228.raw\r\n",
      "./20161205_Sample_36.raw\r\n",
      "./20161205_Sample_40.raw\r\n",
      "./20161205_Sample_52.raw\r\n",
      "./20161205_Sample_4.raw\r\n",
      "./20161205_Sample_12.raw\r\n",
      "./20161205_Sample_24.raw\r\n",
      "./20161205_Sample_32.raw\r\n",
      "./20161205_Sample_35.raw\r\n",
      "./20161205_Sample_43.raw\r\n",
      "./20161205_Sample_51.raw\r\n",
      "./20161205_Sample_1.raw\r\n",
      "./20161205_Sample_20.raw\r\n",
      "./20161205_Sample_48.raw\r\n",
      "./20161205_Sample_56.raw\r\n",
      "./20161205_Sample_3.raw\r\n",
      "./20161205_Sample_11.raw\r\n",
      "./20161205_Sample_44.raw\r\n",
      "./20161205_Sample_19.raw\r\n",
      "./20161205_Sample_8.raw\r\n",
      "./20161205_Sample_3A.raw\r\n",
      "./20161205_Sample_4A.raw\r\n",
      "./20161205_Sample_16A.raw\r\n",
      "./20161205_Sample_35A.raw\r\n",
      "./20161205_Sample_36A.raw\r\n",
      "./20161205_Sample_52A.raw\r\n",
      "./20161205_Sample_8A.raw\r\n",
      "./20161205_Sample_11A.raw\r\n",
      "./20161205_Sample_12A.raw\r\n",
      "./20161205_Sample_19A.raw\r\n",
      "./20161205_Sample_20A.raw\r\n",
      "./20161205_Sample_24A.raw\r\n",
      "./20161205_Sample_27A.raw\r\n",
      "./20161205_Sample_28A.raw\r\n",
      "./20161205_Sample_32A.raw\r\n",
      "./20161205_Sample_40A.raw\r\n",
      "./20161205_Sample_48A.raw\r\n",
      "./20161205_Sample_51A.raw\r\n",
      "./20161205_Sample_56A.raw\r\n",
      "./20161205_Sample_1A.raw\r\n",
      "./20161205_Sample_43A.raw\r\n",
      "./20161205_Sample_44A.raw\r\n"
     ]
    }
   ],
   "source": [
    "!find . -name \"20161205_Sample_***.raw\""
   ]
  },
  {
   "cell_type": "code",
   "execution_count": null,
   "metadata": {
    "collapsed": true
   },
   "outputs": [],
   "source": [
    "/home/shared/ReAdW/WINEPREFIX=~/.wine32 wine ReAdW.2016010.msfilereader.exe \\\n",
    "~/Documents/rhonda2016oyster/trochophora/C_gigas_proteome2016/20161205_Sample_1.raw \\\n",
    "~/Documents/rhonda/20161205_Sample_1.mzXML"
   ]
  },
  {
   "cell_type": "markdown",
   "metadata": {},
   "source": [
    "# In bash window to convert all of the files at once I entered: \n",
    "\n",
    "`for file in ~/Documents/rhonda2016oyster/trochophora/C_gigas_proteome2016/20161205_Sample_*.raw\n",
    "\n",
    "do\n",
    "\n",
    "no_path=${file##*/}\n",
    "\n",
    "no_ext=${no_path%.raw}\n",
    "\n",
    "WINEPREFIX=~/.wine32 wine ReAdW.2016010.msfilereader.exe \"$file\" ~/Documents/rhonda/\"$no_ext\".mzXML\n",
    "\n",
    "done`"
   ]
  },
  {
   "cell_type": "code",
   "execution_count": 36,
   "metadata": {
    "collapsed": false
   },
   "outputs": [
    {
     "name": "stdout",
     "output_type": "stream",
     "text": [
      "  % Total    % Received % Xferd  Average Speed   Time    Time     Time  Current\n",
      "                                 Dload  Upload   Total   Spent    Left  Speed\n",
      "100 11.7M  100 11.7M    0     0  3265k      0  0:00:03  0:00:03 --:--:-- 3264k\n"
     ]
    }
   ],
   "source": [
    "!curl http://gigaton.sigenae.org/ngspipelines/data/dcc6581978/analysis/f78867df95/contigs.fasta.transdecoder.pep.gz > ~/Documents/rhonda/contigs.fasta.transdecoder.pep.gz"
   ]
  },
  {
   "cell_type": "code",
   "execution_count": 38,
   "metadata": {
    "collapsed": false
   },
   "outputs": [],
   "source": [
    "!gzip -d ~/Documents/rhonda/contigs.fasta.transdecoder.pep.gz"
   ]
  },
  {
   "cell_type": "code",
   "execution_count": 39,
   "metadata": {
    "collapsed": false
   },
   "outputs": [
    {
     "name": "stdout",
     "output_type": "stream",
     "text": [
      ">CHOYP_043R.1.5|m.16874 CHOYP_043R.1.5|g.16874  ORF CHOYP_043R.1.5|g.16874 CHOYP_043R.1.5|m.16874 type:internal len:199 (-) CHOYP_043R.1.5:1-594(-)\r\n",
      "TPSGPTPSGPTPSVTPTPSGPTPSVTPTPSGSTPSGPTPSVTPTPSGPTPSGPTPSVTPT\r\n",
      "PSGPTPSVTPTPSVPTPSGPTPSVTPTPSGPTPSVTPTPSGPTPSGPTPSVTPTPSGPTP\r\n",
      "SGPTPSVTPTPSVTPTPSGPTPSVTSTPSAPTPSGPTPSGPTPSVTPTPSGPTPSGPTPS\r\n",
      "VTPTPSGPTPSVTPTPSG\r\n",
      ">CHOYP_043R.5.5|m.64252 CHOYP_043R.5.5|g.64252  ORF CHOYP_043R.5.5|g.64252 CHOYP_043R.5.5|m.64252 type:internal len:821 (+) CHOYP_043R.5.5:2-2461(+)\r\n",
      "SRPTPSVTPTPSGPTPSVTPTPSVSTPSGPTPSVTPTPSGPSPSVTPTPSGPSPSGPTPS\r\n",
      "ATPTPSGPTPSGTTPSGSTPSATITTISTPSTTVCSYVDIGPEQAIDVSLRSPSEDPDAP\r\n",
      "IENILQTNSVYKPKKEPTYDENVVVKIISQDTPTILRVSFTVNRADTVGLEYLTDYKQKI\r\n",
      "ITQNNETVEFVFAAGIITDNFTINIRSDSAEQPEISNLKIRACYKPVIGQPSTTTPNPSI\r\n"
     ]
    }
   ],
   "source": [
    "!head contigs.fasta.transdecoder.pep"
   ]
  },
  {
   "cell_type": "code",
   "execution_count": 40,
   "metadata": {
    "collapsed": false
   },
   "outputs": [
    {
     "name": "stdout",
     "output_type": "stream",
     "text": [
      "  % Total    % Received % Xferd  Average Speed   Time    Time     Time  Current\n",
      "                                 Dload  Upload   Total   Spent    Left  Speed\n",
      "100  8761  100  8761    0     0  24112      0 --:--:-- --:--:-- --:--:-- 24134\n"
     ]
    }
   ],
   "source": [
    "!curl http://comet-ms.sourceforge.net/parameters/parameters_201601/comet.params.high-low \\\n",
    "> ~/Documents/rhonda/Pcomet.params.high-low"
   ]
  },
  {
   "cell_type": "code",
   "execution_count": 41,
   "metadata": {
    "collapsed": false
   },
   "outputs": [
    {
     "name": "stdout",
     "output_type": "stream",
     "text": [
      "# comet_version 2016.01 rev. 0\r\n",
      "# Comet MS/MS search engine parameters file.\r\n",
      "# Everything following the '#' symbol is treated as a comment.\r\n",
      "\r\n",
      "database_name = /some/path/db.fasta\r\n",
      "decoy_search = 0                       # 0=no (default), 1=concatenated search, 2=separate search\r\n",
      "\r\n",
      "num_threads = 0                        # 0=poll CPU to set num threads; else specify num threads directly (max 64)\r\n",
      "\r\n",
      "#\r\n"
     ]
    }
   ],
   "source": [
    "!head ~/Documents/rhonda/Pcomet.params.high-low"
   ]
  },
  {
   "cell_type": "code",
   "execution_count": 1,
   "metadata": {
    "collapsed": false
   },
   "outputs": [
    {
     "name": "stdout",
     "output_type": "stream",
     "text": [
      "/home/srlab/Documents/rhonda\n"
     ]
    }
   ],
   "source": [
    "cd ~/Documents/rhonda"
   ]
  },
  {
   "cell_type": "code",
   "execution_count": 5,
   "metadata": {
    "collapsed": false
   },
   "outputs": [
    {
     "name": "stdout",
     "output_type": "stream",
     "text": [
      "  % Total    % Received % Xferd  Average Speed   Time    Time     Time  Current\n",
      "                                 Dload  Upload   Total   Spent    Left  Speed\n",
      "100  4032  100  4032    0     0   8388      0 --:--:-- --:--:-- --:--:--  8400\n"
     ]
    }
   ],
   "source": [
    "!curl https://raw.githubusercontent.com/Ellior2/Fish-546-Bioinformatics/master/analyses/DDA_2016/contam.bovin \\\n",
    "> contam.bovin"
   ]
  },
  {
   "cell_type": "code",
   "execution_count": 3,
   "metadata": {
    "collapsed": false
   },
   "outputs": [
    {
     "name": "stdout",
     "output_type": "stream",
     "text": [
      "  % Total    % Received % Xferd  Average Speed   Time    Time     Time  Current\n",
      "                                 Dload  Upload   Total   Spent    Left  Speed\n",
      "100 26621  100 26621    0     0  37095      0 --:--:-- --:--:-- --:--:-- 37076\n"
     ]
    }
   ],
   "source": [
    "!curl https://raw.githubusercontent.com/Ellior2/Fish-546-Bioinformatics/master/analyses/DDA_2016/contam.human \\\n",
    "> contam.human"
   ]
  },
  {
   "cell_type": "code",
   "execution_count": 4,
   "metadata": {
    "collapsed": false
   },
   "outputs": [
    {
     "name": "stdout",
     "output_type": "stream",
     "text": [
      "  % Total    % Received % Xferd  Average Speed   Time    Time     Time  Current\n",
      "                                 Dload  Upload   Total   Spent    Left  Speed\n",
      "100 70845    0 70845    0     0  83417      0 --:--:-- --:--:-- --:--:-- 83347\n"
     ]
    }
   ],
   "source": [
    "!curl https://github.com/Ellior2/Fish-546-Bioinformatics/blob/master/analyses/DDA_2016/contam.other \\\n",
    "> contam.other"
   ]
  },
  {
   "cell_type": "code",
   "execution_count": 12,
   "metadata": {
    "collapsed": false
   },
   "outputs": [
    {
     "name": "stdout",
     "output_type": "stream",
     "text": [
      "000-Remotelogin_filechange.ipynb\r\n",
      "001-Comet.ipynb\r\n",
      "20161205_Sample_11A.mzXML\r\n",
      "20161205_Sample_11A.pep.xml\r\n",
      "20161205_Sample_11.mzXML\r\n",
      "20161205_Sample_11.pep.xml\r\n",
      "20161205_Sample_12A.mzXML\r\n",
      "20161205_Sample_12A.pep.xml\r\n",
      "20161205_Sample_12.mzXML\r\n",
      "20161205_Sample_12.pep.xml\r\n",
      "20161205_Sample_16A.mzXML\r\n",
      "20161205_Sample_16A.pep.xml\r\n",
      "20161205_Sample_16.mzXML\r\n",
      "20161205_Sample_16.pep.xml\r\n",
      "20161205_Sample_19A.mzXML\r\n",
      "20161205_Sample_19A.pep.xml\r\n",
      "20161205_Sample_19.mzXML\r\n",
      "20161205_Sample_19.pep.xml\r\n",
      "20161205_Sample_1A.mzXML\r\n",
      "20161205_Sample_1A.pep.xml\r\n",
      "20161205_sample_1.mzXML\r\n",
      "20161205_sample_1.pep.xml\r\n",
      "20161205_Sample_20A.mzXML\r\n",
      "20161205_Sample_20A.pep.xml\r\n",
      "20161205_Sample_20.mzXML\r\n",
      "20161205_Sample_20.pep.xml\r\n",
      "20161205_Sample_24A.mzXML\r\n",
      "20161205_Sample_24A.pep.xml\r\n",
      "20161205_Sample_24.mzXML\r\n",
      "20161205_Sample_24.pep.xml\r\n",
      "20161205_Sample_27A.mzXML\r\n",
      "20161205_Sample_27A.pep.xml\r\n",
      "20161205_Sample_27.mzXML\r\n",
      "20161205_Sample_27.pep.xml\r\n",
      "20161205_Sample_28A.mzXML\r\n",
      "20161205_Sample_28A.pep.xml\r\n",
      "20161205_Sample_28.mzXML\r\n",
      "20161205_Sample_28.pep.xml\r\n",
      "20161205_Sample_32A.mzXML\r\n",
      "20161205_Sample_32A.pep.xml\r\n",
      "20161205_Sample_32.mzXML\r\n",
      "20161205_Sample_32.pep.xml\r\n",
      "20161205_Sample_35A.mzXML\r\n",
      "20161205_Sample_35A.pep.xml\r\n",
      "20161205_Sample_35.mzXML\r\n",
      "20161205_Sample_35.pep.xml\r\n",
      "20161205_Sample_36A.mzXML\r\n",
      "20161205_Sample_36A.pep.xml\r\n",
      "20161205_Sample_36.mzXML\r\n",
      "20161205_Sample_36.pep.xml\r\n",
      "20161205_Sample_3A.mzXML\r\n",
      "20161205_Sample_3A.pep.xml\r\n",
      "20161205_Sample_3.mzXML\r\n",
      "20161205_Sample_3.pep.xml\r\n",
      "20161205_Sample_40A.mzXML\r\n",
      "20161205_Sample_40A.pep.xml\r\n",
      "20161205_Sample_40.mzXML\r\n",
      "20161205_Sample_40.pep.xml\r\n",
      "20161205_Sample_43A.mzXML\r\n",
      "20161205_Sample_43A.pep.xml\r\n",
      "20161205_Sample_43.mzXML\r\n",
      "20161205_Sample_43.pep.xml\r\n",
      "20161205_Sample_44A.mzXML\r\n",
      "20161205_Sample_44A.pep.xml\r\n",
      "20161205_Sample_44.mzXML\r\n",
      "20161205_Sample_44.pep.xml\r\n",
      "20161205_Sample_48A.mzXML\r\n",
      "20161205_Sample_48A.pep.xml\r\n",
      "20161205_Sample_48.mzXML\r\n",
      "20161205_Sample_48.pep.xml\r\n",
      "20161205_Sample_4A.mzXML\r\n",
      "20161205_Sample_4A.pep.xml\r\n",
      "20161205_Sample_4.mzXML\r\n",
      "20161205_Sample_4.pep.xml\r\n",
      "20161205_Sample_51A.mzXML\r\n",
      "20161205_Sample_51A.pep.xml\r\n",
      "20161205_Sample_51.mzXML\r\n",
      "20161205_Sample_51.pep.xml\r\n",
      "20161205_Sample_52A.mzXML\r\n",
      "20161205_Sample_52A.pep.xml\r\n",
      "20161205_Sample_52.mzXML\r\n",
      "20161205_Sample_52.pep.xml\r\n",
      "20161205_Sample_56A.mzXML\r\n",
      "20161205_Sample_56A.pep.xml\r\n",
      "20161205_Sample_56.mzXML\r\n",
      "20161205_Sample_56.pep.xml\r\n",
      "20161205_Sample_8A.mzXML\r\n",
      "20161205_Sample_8A.pep.xml\r\n",
      "20161205_Sample_8.mzXML\r\n",
      "20161205_Sample_8.pep.xml\r\n",
      "ABACUS_output.tsv\r\n",
      "Abacus_parameters.txt\r\n",
      "contam.bovin\r\n",
      "contam.human\r\n",
      "contam.other\r\n",
      "contigs.fasta.transdecoder.pep\r\n",
      "interact-20161205_sample_11A.pep-MODELS.html\r\n",
      "interact-20161205_sample_11A.pep.xml\r\n",
      "interact-20161205_sample_11A.pep.xml.index\r\n",
      "interact-20161205_sample_11A.prot-MODELS.html\r\n",
      "interact-20161205_sample_11A.prot.xml\r\n",
      "interact-20161205_sample_11.pep-MODELS.html\r\n",
      "interact-20161205_sample_11.pep.xml\r\n",
      "interact-20161205_sample_11.pep.xml.index\r\n",
      "interact-20161205_sample_11.prot-MODELS.html\r\n",
      "interact-20161205_sample_11.prot.xml\r\n",
      "interact-20161205_sample_12A.pep-MODELS.html\r\n",
      "interact-20161205_sample_12A.pep.xml\r\n",
      "interact-20161205_sample_12A.pep.xml.index\r\n",
      "interact-20161205_sample_12A.prot-MODELS.html\r\n",
      "interact-20161205_sample_12A.prot.xml\r\n",
      "interact-20161205_sample_12.pep-MODELS.html\r\n",
      "interact-20161205_sample_12.pep.xls\r\n",
      "interact-20161205_sample_12.pep.xml\r\n",
      "interact-20161205_sample_12.pep.xml.index\r\n",
      "interact-20161205_sample_12.prot-MODELS.html\r\n",
      "interact-20161205_sample_12.prot.xml\r\n",
      "interact-20161205_sample_16A.pep-MODELS.html\r\n",
      "interact-20161205_sample_16A.pep.xml\r\n",
      "interact-20161205_sample_16A.pep.xml.index\r\n",
      "interact-20161205_sample_16A.prot-MODELS.html\r\n",
      "interact-20161205_sample_16A.prot.xml\r\n",
      "interact-20161205_sample_16.pep-MODELS.html\r\n",
      "interact-20161205_sample_16.pep.xml\r\n",
      "interact-20161205_sample_16.pep.xml.index\r\n",
      "interact-20161205_sample_16.prot-MODELS.html\r\n",
      "interact-20161205_sample_16.prot.xml\r\n",
      "interact-20161205_sample_19A.pep-MODELS.html\r\n",
      "interact-20161205_sample_19A.pep.xml\r\n",
      "interact-20161205_sample_19A.pep.xml.index\r\n",
      "interact-20161205_sample_19A.prot-MODELS.html\r\n",
      "interact-20161205_sample_19A.prot.xml\r\n",
      "interact-20161205_sample_19.pep-MODELS.html\r\n",
      "interact-20161205_sample_19.pep.xml\r\n",
      "interact-20161205_sample_19.pep.xml.index\r\n",
      "interact-20161205_sample_19.prot-MODELS.html\r\n",
      "interact-20161205_sample_19.prot.xml\r\n",
      "interact-20161205_sample_1A.pep-MODELS.html\r\n",
      "interact-20161205_sample_1A.pep.xls\r\n",
      "interact-20161205_sample_1A.pep.xml\r\n",
      "interact-20161205_sample_1A.pep.xml.index\r\n",
      "interact-20161205_sample_1A.prot-MODELS.html\r\n",
      "interact-20161205_sample_1A.prot.xml\r\n",
      "interact-20161205_sample_1.pep-MODELS.html\r\n",
      "interact-20161205_sample_1.pep.xml\r\n",
      "interact-20161205_sample_1.pep.xml.index\r\n",
      "interact-20161205_sample_1.prot-MODELS.html\r\n",
      "interact-20161205_sample_1.prot.xml\r\n",
      "interact-20161205_sample_20A.pep-MODELS.html\r\n",
      "interact-20161205_sample_20A.pep.xml\r\n",
      "interact-20161205_sample_20A.pep.xml.index\r\n",
      "interact-20161205_sample_20A.prot-MODELS.html\r\n",
      "interact-20161205_sample_20A.prot.xml\r\n",
      "interact-20161205_sample_20.pep-MODELS.html\r\n",
      "interact-20161205_sample_20.pep.xls\r\n",
      "interact-20161205_sample_20.pep.xml\r\n",
      "interact-20161205_sample_20.pep.xml.index\r\n",
      "interact-20161205_sample_20.prot-MODELS.html\r\n",
      "interact-20161205_sample_20.prot.xml\r\n",
      "interact-20161205_sample_24A.pep-MODELS.html\r\n",
      "interact-20161205_sample_24A.pep.xml\r\n",
      "interact-20161205_sample_24A.pep.xml.index\r\n",
      "interact-20161205_sample_24A.prot-MODELS.html\r\n",
      "interact-20161205_sample_24A.prot.xml\r\n",
      "interact-20161205_sample_24.pep-MODELS.html\r\n",
      "interact-20161205_sample_24.pep.xml\r\n",
      "interact-20161205_sample_24.pep.xml.index\r\n",
      "interact-20161205_sample_24.prot-MODELS.html\r\n",
      "interact-20161205_sample_24.prot.xml\r\n",
      "interact-20161205_sample_27A.pep-MODELS.html\r\n",
      "interact-20161205_sample_27A.pep.xml\r\n",
      "interact-20161205_sample_27A.pep.xml.index\r\n",
      "interact-20161205_sample_27A.prot-MODELS.html\r\n",
      "interact-20161205_sample_27A.prot.xml\r\n",
      "interact-20161205_sample_27.pep-MODELS.html\r\n",
      "interact-20161205_sample_27.pep.xls\r\n",
      "interact-20161205_sample_27.pep.xml\r\n",
      "interact-20161205_sample_27.pep.xml.index\r\n",
      "interact-20161205_sample_27.prot-MODELS.html\r\n",
      "interact-20161205_sample_27.prot.xml\r\n",
      "interact-20161205_sample_28A.pep-MODELS.html\r\n",
      "interact-20161205_sample_28A.pep.xml\r\n",
      "interact-20161205_sample_28A.pep.xml.index\r\n",
      "interact-20161205_sample_28A.prot-MODELS.html\r\n",
      "interact-20161205_sample_28A.prot.xml\r\n",
      "interact-20161205_sample_28.pep-MODELS.html\r\n",
      "interact-20161205_sample_28.pep.xls\r\n",
      "interact-20161205_sample_28.pep.xml\r\n",
      "interact-20161205_sample_28.pep.xml.index\r\n",
      "interact-20161205_sample_28.prot-MODELS.html\r\n",
      "interact-20161205_sample_28.prot.xml\r\n",
      "interact-20161205_sample_32A.pep-MODELS.html\r\n",
      "interact-20161205_sample_32A.pep.xml\r\n",
      "interact-20161205_sample_32A.pep.xml.index\r\n",
      "interact-20161205_sample_32A.prot-MODELS.html\r\n",
      "interact-20161205_sample_32A.prot.xml\r\n",
      "interact-20161205_sample_32.pep-MODELS.html\r\n",
      "interact-20161205_sample_32.pep.xls\r\n",
      "interact-20161205_sample_32.pep.xml\r\n",
      "interact-20161205_sample_32.pep.xml.index\r\n",
      "interact-20161205_sample_32.prot-MODELS.html\r\n",
      "interact-20161205_sample_32.prot.xml\r\n",
      "interact-20161205_sample_35A.pep-MODELS.html\r\n",
      "interact-20161205_sample_35A.pep.xml\r\n",
      "interact-20161205_sample_35A.pep.xml.index\r\n",
      "interact-20161205_sample_35A.prot-MODELS.html\r\n",
      "interact-20161205_sample_35A.prot.xml\r\n",
      "interact-20161205_sample_35.pep-MODELS.html\r\n",
      "interact-20161205_sample_35.pep.xls\r\n",
      "interact-20161205_sample_35.pep.xml\r\n",
      "interact-20161205_sample_35.pep.xml.index\r\n",
      "interact-20161205_sample_35.prot-MODELS.html\r\n",
      "interact-20161205_sample_35.prot.xml\r\n",
      "interact-20161205_sample_36A.pep-MODELS.html\r\n",
      "interact-20161205_sample_36A.pep.xml\r\n",
      "interact-20161205_sample_36A.pep.xml.index\r\n",
      "interact-20161205_sample_36A.prot-MODELS.html\r\n",
      "interact-20161205_sample_36A.prot.xml\r\n",
      "interact-20161205_sample_36.pep-MODELS.html\r\n",
      "interact-20161205_sample_36.pep.xml\r\n",
      "interact-20161205_sample_36.pep.xml.index\r\n",
      "interact-20161205_sample_36.prot-MODELS.html\r\n",
      "interact-20161205_sample_36.prot.xml\r\n",
      "interact-20161205_sample_3A.pep-MODELS.html\r\n",
      "interact-20161205_sample_3A.pep.xml\r\n",
      "interact-20161205_sample_3A.pep.xml.index\r\n",
      "interact-20161205_sample_3A.prot-MODELS.html\r\n",
      "interact-20161205_sample_3A.prot.xml\r\n",
      "interact-20161205_sample_3.pep-MODELS.html\r\n",
      "interact-20161205_sample_3.pep.xml\r\n",
      "interact-20161205_sample_3.pep.xml.index\r\n",
      "interact-20161205_sample_3.prot-MODELS.html\r\n",
      "interact-20161205_sample_3.prot.xml\r\n",
      "interact-20161205_sample_40A.pep-MODELS.html\r\n",
      "interact-20161205_sample_40A.pep.xml\r\n",
      "interact-20161205_sample_40A.pep.xml.index\r\n",
      "interact-20161205_sample_40A.prot-MODELS.html\r\n",
      "interact-20161205_sample_40A.prot.xml\r\n",
      "interact-20161205_sample_40.pep-MODELS.html\r\n",
      "interact-20161205_sample_40.pep.xml\r\n",
      "interact-20161205_sample_40.pep.xml.index\r\n",
      "interact-20161205_sample_40.prot-MODELS.html\r\n",
      "interact-20161205_sample_40.prot.xml\r\n",
      "interact-20161205_sample_43A.pep-MODELS.html\r\n",
      "interact-20161205_sample_43A.pep.xml\r\n",
      "interact-20161205_sample_43A.pep.xml.index\r\n",
      "interact-20161205_sample_43A.prot-MODELS.html\r\n",
      "interact-20161205_sample_43A.prot.xml\r\n",
      "interact-20161205_sample_43.pep-MODELS.html\r\n",
      "interact-20161205_sample_43.pep.xml\r\n",
      "interact-20161205_sample_43.pep.xml.index\r\n",
      "interact-20161205_sample_43.prot-MODELS.html\r\n",
      "interact-20161205_sample_43.prot.xml\r\n",
      "interact-20161205_sample_44A.pep-MODELS.html\r\n",
      "interact-20161205_sample_44A.pep.xml\r\n",
      "interact-20161205_sample_44A.pep.xml.index\r\n",
      "interact-20161205_sample_44A.prot-MODELS.html\r\n",
      "interact-20161205_sample_44A.prot.xml\r\n",
      "interact-20161205_sample_44.pep-MODELS.html\r\n",
      "interact-20161205_sample_44.pep.xml\r\n",
      "interact-20161205_sample_44.pep.xml.index\r\n",
      "interact-20161205_sample_44.prot-MODELS.html\r\n",
      "interact-20161205_sample_44.prot.xml\r\n",
      "interact-20161205_sample_48A.pep-MODELS.html\r\n",
      "interact-20161205_sample_48A.pep.xls\r\n",
      "interact-20161205_sample_48A.pep.xml\r\n",
      "interact-20161205_sample_48A.pep.xml.index\r\n",
      "interact-20161205_sample_48A.prot-MODELS.html\r\n",
      "interact-20161205_sample_48A.prot.xml\r\n",
      "interact-20161205_sample_48.pep-MODELS.html\r\n",
      "interact-20161205_sample_48.pep.xml\r\n",
      "interact-20161205_sample_48.pep.xml.index\r\n",
      "interact-20161205_sample_48.prot-MODELS.html\r\n",
      "interact-20161205_sample_48.prot.xml\r\n",
      "interact-20161205_sample_4a.pep.xml.tmp.20LjaI\r\n",
      "interact-20161205_sample_4.pep-MODELS.html\r\n",
      "interact-20161205_sample_4.pep.xml\r\n",
      "interact-20161205_sample_4.pep.xml.index\r\n",
      "interact-20161205_sample_4.prot-MODELS.html\r\n",
      "interact-20161205_sample_4.prot.xml\r\n",
      "interact-20161205_sample_51A.pep-MODELS.html\r\n",
      "interact-20161205_sample_51A.pep.xml\r\n",
      "interact-20161205_sample_51A.pep.xml.index\r\n",
      "interact-20161205_sample_51A.prot-MODELS.html\r\n",
      "interact-20161205_sample_51A.prot.xml\r\n",
      "interact-20161205_sample_51.pep-MODELS.html\r\n",
      "interact-20161205_sample_51.pep.xml\r\n",
      "interact-20161205_sample_51.pep.xml.index\r\n",
      "interact-20161205_sample_51.prot-MODELS.html\r\n",
      "interact-20161205_sample_51.prot.xml\r\n",
      "interact-20161205_sample_52A.pep-MODELS.html\r\n",
      "interact-20161205_sample_52A.pep.xml\r\n",
      "interact-20161205_sample_52A.pep.xml.index\r\n",
      "interact-20161205_sample_52A.prot-MODELS.html\r\n",
      "interact-20161205_sample_52A.prot.xml\r\n",
      "interact-20161205_sample_52.pep-MODELS.html\r\n",
      "interact-20161205_sample_52.pep.xml\r\n",
      "interact-20161205_sample_52.pep.xml.index\r\n",
      "interact-20161205_sample_52.prot-MODELS.html\r\n",
      "interact-20161205_sample_52.prot.xml\r\n",
      "interact-20161205_sample_56A.pep-MODELS.html\r\n",
      "interact-20161205_sample_56A.pep.xml\r\n",
      "interact-20161205_sample_56A.pep.xml.index\r\n",
      "interact-20161205_sample_56A.prot-MODELS.html\r\n",
      "interact-20161205_sample_56A.prot.xml\r\n",
      "interact-20161205_sample_56.pep-MODELS.html\r\n",
      "interact-20161205_sample_56.pep.xls\r\n",
      "interact-20161205_sample_56.pep.xml\r\n",
      "interact-20161205_sample_56.pep.xml.index\r\n",
      "interact-20161205_sample_56.prot-MODELS.html\r\n",
      "interact-20161205_sample_56.prot.xml\r\n",
      "interact-20161205_sample_8A.pep-MODELS.html\r\n",
      "interact-20161205_sample_8A.pep.xls\r\n",
      "interact-20161205_sample_8A.pep.xml\r\n",
      "interact-20161205_sample_8A.pep.xml.index\r\n",
      "interact-20161205_sample_8A.prot-MODELS.html\r\n",
      "interact-20161205_sample_8A.prot.xml\r\n",
      "interact-20161205_sample_8.pep-MODELS.html\r\n",
      "interact-20161205_sample_8.pep.xml\r\n",
      "interact-20161205_sample_8.pep.xml.index\r\n",
      "interact-20161205_sample_8.prot-MODELS.html\r\n",
      "interact-20161205_sample_8.prot.xml\r\n",
      "interact-COMBINED.prot.xml\r\n",
      "Pcomet.params.high-low\r\n"
     ]
    }
   ],
   "source": [
    "ls"
   ]
  }
 ],
 "metadata": {
  "kernelspec": {
   "display_name": "Python 2",
   "language": "python",
   "name": "python2"
  },
  "language_info": {
   "codemirror_mode": {
    "name": "ipython",
    "version": 2
   },
   "file_extension": ".py",
   "mimetype": "text/x-python",
   "name": "python",
   "nbconvert_exporter": "python",
   "pygments_lexer": "ipython2",
   "version": "2.7.12"
  }
 },
 "nbformat": 4,
 "nbformat_minor": 2
}
