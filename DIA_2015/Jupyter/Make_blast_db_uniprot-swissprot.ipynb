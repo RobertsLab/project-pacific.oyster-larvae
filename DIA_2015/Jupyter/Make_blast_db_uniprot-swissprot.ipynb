{
 "cells": [
  {
   "cell_type": "markdown",
   "metadata": {},
   "source": [
    "## Notebook to make blast db from uniprot/swissprot fasta"
   ]
  },
  {
   "cell_type": "markdown",
   "metadata": {},
   "source": [
    "### Materials needed:\n",
    "uniprot/swissprot fasta: http://owl.fish.washington.edu/halfshell/bu-alanine-wd/blast/db/uniprot_sprot2017_07.fasta "
   ]
  },
  {
   "cell_type": "markdown",
   "metadata": {},
   "source": [
    "### Put fasta in GitHub: "
   ]
  },
  {
   "cell_type": "code",
   "execution_count": 1,
   "metadata": {},
   "outputs": [
    {
     "data": {
      "text/plain": [
       "'/Users/graciecrandall/Documents/GitHub/project-pacific.oyster-larvae/DIA_2015/Jupyter'"
      ]
     },
     "execution_count": 1,
     "metadata": {},
     "output_type": "execute_result"
    }
   ],
   "source": [
    "pwd"
   ]
  },
  {
   "cell_type": "code",
   "execution_count": null,
   "metadata": {
    "collapsed": true
   },
   "outputs": [],
   "source": [
    "!makeblastdb \\\n",
    "-in /blastdb/uniprot_sprot.fasta \\\n",
    "-dbtype prot \\\n",
    "-out /Users/graciecrandall/Documents/GitHub/project-pacific.oyster-larvae/DIA_2015/Jupyter/blastdb/uniprot_sprot"
   ]
  }
 ],
 "metadata": {
  "kernelspec": {
   "display_name": "Python [default]",
   "language": "python",
   "name": "python3"
  },
  "language_info": {
   "codemirror_mode": {
    "name": "ipython",
    "version": 3
   },
   "file_extension": ".py",
   "mimetype": "text/x-python",
   "name": "python",
   "nbconvert_exporter": "python",
   "pygments_lexer": "ipython3",
   "version": "3.5.3"
  }
 },
 "nbformat": 4,
 "nbformat_minor": 2
}
