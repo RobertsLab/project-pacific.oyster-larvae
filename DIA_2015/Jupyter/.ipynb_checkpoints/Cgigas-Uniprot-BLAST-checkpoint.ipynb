{
 "cells": [
  {
   "cell_type": "markdown",
   "metadata": {},
   "source": [
    "## Notebook to BLAST _C. gigas_ proteome with uniprot-swissprot database"
   ]
  },
  {
   "cell_type": "markdown",
   "metadata": {},
   "source": [
    "### Materials needed:\n",
    "1. _C. gigas_ proteome used in DIA: http://owl.fish.washington.edu/scaphapoda/grace/2015-Cgseed-DIA/fasta/Cg_Giga_cont_prtc_AA.fasta \n",
    "2. Uniprot/swissprot databse: "
   ]
  },
  {
   "cell_type": "code",
   "execution_count": null,
   "metadata": {
    "collapsed": true
   },
   "outputs": [],
   "source": []
  }
 ],
 "metadata": {
  "kernelspec": {
   "display_name": "Python [default]",
   "language": "python",
   "name": "python3"
  },
  "language_info": {
   "codemirror_mode": {
    "name": "ipython",
    "version": 3
   },
   "file_extension": ".py",
   "mimetype": "text/x-python",
   "name": "python",
   "nbconvert_exporter": "python",
   "pygments_lexer": "ipython3",
   "version": "3.5.3"
  }
 },
 "nbformat": 4,
 "nbformat_minor": 2
}
