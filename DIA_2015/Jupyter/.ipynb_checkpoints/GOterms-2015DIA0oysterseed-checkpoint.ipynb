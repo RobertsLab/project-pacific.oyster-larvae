{
 "cells": [
  {
   "cell_type": "markdown",
   "metadata": {},
   "source": [
    "### Notebook to get GO terms from Skyline output for 2015 Oysterseed DIA Project"
   ]
  },
  {
   "cell_type": "code",
   "execution_count": 13,
   "metadata": {},
   "outputs": [
    {
     "data": {
      "text/plain": [
       "'/Users/graciecrandall/Documents/GitHub/project-pacific.oyster-larvae/DIA_2015/data'"
      ]
     },
     "execution_count": 13,
     "metadata": {},
     "output_type": "execute_result"
    }
   ],
   "source": [
    "pwd"
   ]
  },
  {
   "cell_type": "code",
   "execution_count": 14,
   "metadata": {},
   "outputs": [
    {
     "name": "stdout",
     "output_type": "stream",
     "text": [
      "/Users/graciecrandall/Documents/GitHub/project-pacific.oyster-larvae/DIA_2015/data\n"
     ]
    }
   ],
   "source": [
    "cd ../data/"
   ]
  },
  {
   "cell_type": "markdown",
   "metadata": {},
   "source": [
    "## In this directory you will need three files\n",
    "1) skyline output file from 2015 oysterseed DIA that includes oyster sample ID, found here http://owl.fish.washington.edu/scaphapoda/grace/2015-Cgseed-DIA/post-EncyclopeDIA-Skyline/20181218-SkytoMSstats-report.csv          \n",
    "2) Uniprot GO annotation file (340M) available here http://owl.fish.washington.edu/halfshell/bu-alanine-wd/17-07-20/uniprot-SP-GO.sorted        \n",
    "3) GOslim file available here http://owl.fish.washington.edu/halfshell/bu-alanine-wd/17-07-20/GO-GOslim.sorted"
   ]
  },
  {
   "cell_type": "code",
   "execution_count": 15,
   "metadata": {
    "scrolled": true
   },
   "outputs": [
    {
     "name": "stdout",
     "output_type": "stream",
     "text": [
      "  % Total    % Received % Xferd  Average Speed   Time    Time     Time  Current\n",
      "                                 Dload  Upload   Total   Spent    Left  Speed\n",
      "100 2314k  100 2314k    0     0  3301k      0 --:--:-- --:--:-- --:--:-- 3443k\n"
     ]
    }
   ],
   "source": [
    "#get GO-GOslim.sorted\n",
    "!curl -O http://owl.fish.washington.edu/halfshell/bu-alanine-wd/17-07-20/GO-GOslim.sorted"
   ]
  },
  {
   "cell_type": "code",
   "execution_count": 16,
   "metadata": {},
   "outputs": [
    {
     "name": "stdout",
     "output_type": "stream",
     "text": [
      "  % Total    % Received % Xferd  Average Speed   Time    Time     Time  Current\n",
      "                                 Dload  Upload   Total   Spent    Left  Speed\n",
      "100  340M  100  340M    0     0  5274k      0  0:01:06  0:01:06 --:--:-- 6905k  0     0  4940k      0  0:01:10  0:00:39  0:00:31 5575kM   85  292M    0     0  5252k      0  0:01:06  0:00:57  0:00:09 5207k\n"
     ]
    }
   ],
   "source": [
    "#get uniprot-SP-GO.sorted\n",
    "!curl -O  http://owl.fish.washington.edu/halfshell/bu-alanine-wd/17-07-20/uniprot-SP-GO.sorted"
   ]
  },
  {
   "cell_type": "code",
   "execution_count": 17,
   "metadata": {},
   "outputs": [
    {
     "name": "stdout",
     "output_type": "stream",
     "text": [
      "  % Total    % Received % Xferd  Average Speed   Time    Time     Time  Current\n",
      "                                 Dload  Upload   Total   Spent    Left  Speed\n",
      "100 89.0M  100 89.0M    0     0  4456k      0  0:00:20  0:00:20 --:--:-- 4876k\n"
     ]
    }
   ],
   "source": [
    "#get 20181218-SkytoMSstats-report.csv that includes oyster sample names\n",
    "!curl -O http://owl.fish.washington.edu/scaphapoda/grace/2015-Cgseed-DIA/post-EncyclopeDIA-Skyline/20181218-SkytoMSstats-report.csv"
   ]
  },
  {
   "cell_type": "code",
   "execution_count": 18,
   "metadata": {
    "scrolled": false
   },
   "outputs": [
    {
     "name": "stdout",
     "output_type": "stream",
     "text": [
      "20181218-SkytoMSstats-report.csv _skyout-sort.tab\r\n",
      "GO-GOslim.sorted                 _skyout2-sep.tab\r\n",
      "_skyout-annot.tab                oysterseed2.blib.blib\r\n",
      "_skyout-sep.tab                  uniprot-SP-GO.sorted\r\n"
     ]
    }
   ],
   "source": [
    "#check what's in the directory (the files that were 'curl'ed above should be listed)\n",
    "!ls "
   ]
  },
  {
   "cell_type": "code",
   "execution_count": 19,
   "metadata": {},
   "outputs": [
    {
     "name": "stdout",
     "output_type": "stream",
     "text": [
      "GO:0000001\tmitochondrion inheritance\tcell organization and biogenesis\tP\r\n",
      "GO:0000002\tmitochondrial genome maintenance\tcell organization and biogenesis\tP\r\n",
      "GO:0000003\treproduction\tother biological processes\tP\r\n",
      "GO:0000006\thigh affinity zinc uptake transmembrane transporter activity\ttransporter activity\tF\r\n",
      "GO:0000007\tlow-affinity zinc ion transmembrane transporter activity\ttransporter activity\tF\r\n",
      "GO:0000009\t\"alpha-1,6-mannosyltransferase activity\"\tother molecular function\tF\r\n",
      "GO:0000010\ttrans-hexaprenyltranstransferase activity\tother molecular function\tF\r\n",
      "GO:0000011\tvacuole inheritance\tcell organization and biogenesis\tP\r\n"
     ]
    }
   ],
   "source": [
    "#look at the heads of each file to check that things look ok\n",
    "!head -8 GO-GOslim.sorted"
   ]
  },
  {
   "cell_type": "code",
   "execution_count": 20,
   "metadata": {},
   "outputs": [
    {
     "name": "stdout",
     "output_type": "stream",
     "text": [
      "A0A023GPI8\tLECA_CANBL\treviewed\tLectin alpha chain (CboL) [Cleaved into: Lectin beta chain; Lectin gamma chain]\t\tCanavalia boliviana\t237\t\t\tmannose binding [GO:0005537]; metal ion binding [GO:0046872]\tmannose binding [GO:0005537]; metal ion binding [GO:0046872]\tGO:0005537; GO:0046872\r\n",
      "A0A023GPJ0\tCDII_ENTCC\treviewed\tImmunity protein CdiI\tcdiI ECL_04450.1\tEnterobacter cloacae subsp. cloacae (strain ATCC 13047 / DSM 30054 / NBRC 13535 / NCDC 279-56)\t145\t\t\t\t\t\r\n",
      "A0A023PXA5\tYA19A_YEAST\treviewed\tPutative uncharacterized protein YAL019W-A\tYAL019W-A\tSaccharomyces cerevisiae (strain ATCC 204508 / S288c) (Baker's yeast)\t189\t\t\t\t\t\r\n",
      "A0A023PXB0\tYA019_YEAST\treviewed\tPutative uncharacterized protein YAR019W-A\tYAR019W-A\tSaccharomyces cerevisiae (strain ATCC 204508 / S288c) (Baker's yeast)\t110\t\t\t\t\t\r\n",
      "A0A023PXB5\tIRC2_YEAST\treviewed\tPutative uncharacterized membrane protein IRC2 (Increased recombination centers protein 2)\tIRC2 YDR112W\tSaccharomyces cerevisiae (strain ATCC 204508 / S288c) (Baker's yeast)\t102\t\tintegral component of membrane [GO:0016021]\t\tintegral component of membrane [GO:0016021]\tGO:0016021\r\n",
      "A0A023PXB9\tYD99W_YEAST\treviewed\tPutative uncharacterized membrane protein YDR199W\tYDR199W\tSaccharomyces cerevisiae (strain ATCC 204508 / S288c) (Baker's yeast)\t121\t\tintegral component of membrane [GO:0016021]\t\tintegral component of membrane [GO:0016021]\tGO:0016021\r\n",
      "A0A023PXC2\tYE53A_YEAST\treviewed\tPutative uncharacterized membrane protein YEL053W-A\tYEL053W-A\tSaccharomyces cerevisiae (strain ATCC 204508 / S288c) (Baker's yeast)\t115\t\tintegral component of membrane [GO:0016021]\t\tintegral component of membrane [GO:0016021]\tGO:0016021\r\n",
      "A0A023PXC7\tYE068_YEAST\treviewed\tPutative uncharacterized membrane protein YER068C-A\tYER068C-A\tSaccharomyces cerevisiae (strain ATCC 204508 / S288c) (Baker's yeast)\t143\t\tintegral component of membrane [GO:0016021]\t\tintegral component of membrane [GO:0016021]\tGO:0016021\r\n"
     ]
    }
   ],
   "source": [
    "!head -8 uniprot-SP-GO.sorted"
   ]
  },
  {
   "cell_type": "code",
   "execution_count": 21,
   "metadata": {
    "scrolled": true
   },
   "outputs": [
    {
     "name": "stdout",
     "output_type": "stream",
     "text": [
      "Protein Name,Peptide Sequence,Peptide Modified Sequence,Precursor Charge,Precursor Mz,Fragment Ion,Product Charge,Product Mz,Isotope Label Type,Condition,BioReplicate,File Name,Area,Standard Type,Truncated,Detection Q Value,Replicate Name\r",
      "\r\n",
      "CHOYP_043R.5.5|m.64252,ADTVGLEYLTDYK,ADTVGLEYLTDYK,2,744.366846,y9,1,1101.546267,light,23C,1,2015_December_30_DIA_oysterseed3.mzML,23829,,False,0.0001,Oysterseed_01\r",
      "\r\n",
      "CHOYP_043R.5.5|m.64252,ADTVGLEYLTDYK,ADTVGLEYLTDYK,2,744.366846,y9,1,1101.546267,light,29C,2,2015_December_30_DIA_oysterseed7.mzML,102778,,False,0.0001,Oysterseed_02\r",
      "\r\n",
      "CHOYP_043R.5.5|m.64252,ADTVGLEYLTDYK,ADTVGLEYLTDYK,2,744.366846,y9,1,1101.546267,light,23C,1,2015_December_30_DIA_oysterseed11.mzML,57795,,False,0.0001,Oysterseed_13\r",
      "\r\n",
      "CHOYP_043R.5.5|m.64252,ADTVGLEYLTDYK,ADTVGLEYLTDYK,2,744.366846,y9,1,1101.546267,light,29C,2,2015_December_30_oysterseed15.mzML,89537,,False,0.0001,Oysterseed_14\r",
      "\r\n",
      "CHOYP_043R.5.5|m.64252,ADTVGLEYLTDYK,ADTVGLEYLTDYK,2,744.366846,y4,1,526.250754,light,23C,1,2015_December_30_DIA_oysterseed3.mzML,4036,,False,0.0001,Oysterseed_01\r",
      "\r\n",
      "CHOYP_043R.5.5|m.64252,ADTVGLEYLTDYK,ADTVGLEYLTDYK,2,744.366846,y4,1,526.250754,light,29C,2,2015_December_30_DIA_oysterseed7.mzML,53006,,False,0.0001,Oysterseed_02\r",
      "\r\n",
      "CHOYP_043R.5.5|m.64252,ADTVGLEYLTDYK,ADTVGLEYLTDYK,2,744.366846,y4,1,526.250754,light,23C,1,2015_December_30_DIA_oysterseed11.mzML,17726,,False,0.0001,Oysterseed_13\r",
      "\r\n"
     ]
    }
   ],
   "source": [
    "!head -8 20181218-SkytoMSstats-report.csv"
   ]
  },
  {
   "cell_type": "code",
   "execution_count": 22,
   "metadata": {
    "collapsed": true
   },
   "outputs": [],
   "source": [
    "#name skyline to ms stats report file \"skyout\"\n",
    "skyout=\"20181218-SkytoMSstats-report.csv\""
   ]
  },
  {
   "cell_type": "code",
   "execution_count": 23,
   "metadata": {},
   "outputs": [
    {
     "name": "stdout",
     "output_type": "stream",
     "text": [
      "Protein Name,Peptide Sequence,Peptide Modified Sequence,Precursor Charge,Precursor Mz,Fragment Ion,Product Charge,Product Mz,Isotope Label Type,Condition,BioReplicate,File Name,Area,Standard Type,Truncated,Detection Q Value,Replicate Name\r",
      "\r\n",
      "CHOYP_043R.5.5|m.64252,ADTVGLEYLTDYK,ADTVGLEYLTDYK,2,744.366846,y9,1,1101.546267,light,23C,1,2015_December_30_DIA_oysterseed3.mzML,23829,,False,0.0001,Oysterseed_01\r",
      "\r\n"
     ]
    }
   ],
   "source": [
    "!head -2 $skyout"
   ]
  },
  {
   "cell_type": "code",
   "execution_count": 24,
   "metadata": {},
   "outputs": [
    {
     "name": "stdout",
     "output_type": "stream",
     "text": [
      "sp|UBE2C_HUMAN|,ICLDILK,IC[+57]LDILK,2,437.756964,y3,1,373.280932,light,23C,1,2015_December_30_DIA_oysterseed9.mzML,339177,,False,0.0001,Oysterseed_13\r",
      "\r\n",
      "sp|UBE2C_HUMAN|,ICLDILK,IC[+57]LDILK,2,437.756964,y3,1,373.280932,light,29C,2,2015_December_30_DIA_oysterseed13.mzML,371700,,False,0.0001,Oysterseed_14\r",
      "\r\n"
     ]
    }
   ],
   "source": [
    "!tail -2 $skyout"
   ]
  },
  {
   "cell_type": "code",
   "execution_count": 25,
   "metadata": {
    "collapsed": true
   },
   "outputs": [],
   "source": [
    "#translate pipes to tabs\n",
    "!tr '|' '\\t' < $skyout\\\n",
    "> _skyout-sep.tab"
   ]
  },
  {
   "cell_type": "code",
   "execution_count": 26,
   "metadata": {},
   "outputs": [
    {
     "name": "stdout",
     "output_type": "stream",
     "text": [
      "Protein Name,Peptide Sequence,Peptide Modified Sequence,Precursor Charge,Precursor Mz,Fragment Ion,Product Charge,Product Mz,Isotope Label Type,Condition,BioReplicate,File Name,Area,Standard Type,Truncated,Detection Q Value,Replicate Name\r",
      "\r\n",
      "CHOYP_043R.5.5\tm.64252,ADTVGLEYLTDYK,ADTVGLEYLTDYK,2,744.366846,y9,1,1101.546267,light,23C,1,2015_December_30_DIA_oysterseed3.mzML,23829,,False,0.0001,Oysterseed_01\r",
      "\r\n"
     ]
    }
   ],
   "source": [
    "!head -2 _skyout-sep.tab"
   ]
  },
  {
   "cell_type": "code",
   "execution_count": 27,
   "metadata": {
    "collapsed": true
   },
   "outputs": [],
   "source": [
    "#convert commas to tabs\n",
    "!tr ',' '\\t' < _skyout-sep.tab\\\n",
    "> _skyout2-sep.tab"
   ]
  },
  {
   "cell_type": "code",
   "execution_count": 28,
   "metadata": {},
   "outputs": [
    {
     "name": "stdout",
     "output_type": "stream",
     "text": [
      "Protein Name\tPeptide Sequence\tPeptide Modified Sequence\tPrecursor Charge\tPrecursor Mz\tFragment Ion\tProduct Charge\tProduct Mz\tIsotope Label Type\tCondition\tBioReplicate\tFile Name\tArea\tStandard Type\tTruncated\tDetection Q Value\tReplicate Name\r",
      "\r\n",
      "CHOYP_043R.5.5\tm.64252\tADTVGLEYLTDYK\tADTVGLEYLTDYK\t2\t744.366846\ty9\t1\t1101.546267\tlight\t23C\t1\t2015_December_30_DIA_oysterseed3.mzML\t23829\t\tFalse\t0.0001\tOysterseed_01\r",
      "\r\n",
      "CHOYP_043R.5.5\tm.64252\tADTVGLEYLTDYK\tADTVGLEYLTDYK\t2\t744.366846\ty9\t1\t1101.546267\tlight\t29C\t2\t2015_December_30_DIA_oysterseed7.mzML\t102778\t\tFalse\t0.0001\tOysterseed_02\r",
      "\r\n",
      "CHOYP_043R.5.5\tm.64252\tADTVGLEYLTDYK\tADTVGLEYLTDYK\t2\t744.366846\ty9\t1\t1101.546267\tlight\t23C\t1\t2015_December_30_DIA_oysterseed11.mzML\t57795\t\tFalse\t0.0001\tOysterseed_13\r",
      "\r\n",
      "CHOYP_043R.5.5\tm.64252\tADTVGLEYLTDYK\tADTVGLEYLTDYK\t2\t744.366846\ty9\t1\t1101.546267\tlight\t29C\t2\t2015_December_30_oysterseed15.mzML\t89537\t\tFalse\t0.0001\tOysterseed_14\r",
      "\r\n",
      "CHOYP_043R.5.5\tm.64252\tADTVGLEYLTDYK\tADTVGLEYLTDYK\t2\t744.366846\ty4\t1\t526.250754\tlight\t23C\t1\t2015_December_30_DIA_oysterseed3.mzML\t4036\t\tFalse\t0.0001\tOysterseed_01\r",
      "\r\n",
      "CHOYP_043R.5.5\tm.64252\tADTVGLEYLTDYK\tADTVGLEYLTDYK\t2\t744.366846\ty4\t1\t526.250754\tlight\t29C\t2\t2015_December_30_DIA_oysterseed7.mzML\t53006\t\tFalse\t0.0001\tOysterseed_02\r",
      "\r\n",
      "CHOYP_043R.5.5\tm.64252\tADTVGLEYLTDYK\tADTVGLEYLTDYK\t2\t744.366846\ty4\t1\t526.250754\tlight\t23C\t1\t2015_December_30_DIA_oysterseed11.mzML\t17726\t\tFalse\t0.0001\tOysterseed_13\r",
      "\r\n"
     ]
    }
   ],
   "source": [
    "!head -8 _skyout2-sep.tab"
   ]
  },
  {
   "cell_type": "code",
   "execution_count": 29,
   "metadata": {
    "collapsed": true
   },
   "outputs": [],
   "source": [
    "#reducing number of columns and sorting \n",
    "#pull out columns: peptide modified sequence, protein name, peak area, and replicate name\n",
    "!awk -v OFS='\\t' '{print $3, $1, $14, $17}' < _skyout2-sep.tab | sort \\\n",
    "> _skyout-sort.tab"
   ]
  },
  {
   "cell_type": "code",
   "execution_count": 30,
   "metadata": {},
   "outputs": [
    {
     "name": "stdout",
     "output_type": "stream",
     "text": [
      "AAAATGNEAMDTSGGER\tCHOYP_LOC100374524.1.1\t10507\tOysterseed_13\r",
      "\r\n",
      "AAAATGNEAMDTSGGER\tCHOYP_LOC100374524.1.1\t12180\tOysterseed_13\r",
      "\r\n",
      "AAAATGNEAMDTSGGER\tCHOYP_LOC100374524.1.1\t12952\tOysterseed_01\r",
      "\r\n",
      "AAAATGNEAMDTSGGER\tCHOYP_LOC100374524.1.1\t16887\tOysterseed_13\r",
      "\r\n",
      "AAAATGNEAMDTSGGER\tCHOYP_LOC100374524.1.1\t17244\tOysterseed_01\r",
      "\r\n",
      "AAAATGNEAMDTSGGER\tCHOYP_LOC100374524.1.1\t18543\tOysterseed_02\r",
      "\r\n",
      "AAAATGNEAMDTSGGER\tCHOYP_LOC100374524.1.1\t20864\tOysterseed_02\r",
      "\r\n",
      "AAAATGNEAMDTSGGER\tCHOYP_LOC100374524.1.1\t21035\tOysterseed_01\r",
      "\r\n"
     ]
    }
   ],
   "source": [
    "!head -8 _skyout-sort.tab"
   ]
  },
  {
   "cell_type": "code",
   "execution_count": 31,
   "metadata": {
    "collapsed": true
   },
   "outputs": [],
   "source": [
    "!join -t $'\\t' \\\n",
    "_skyout-sort.tab \\\n",
    "uniprot-SP-GO.sorted \\\n",
    "| cut -f1,2,14 \\\n",
    "> _skyout-annot.tab"
   ]
  },
  {
   "cell_type": "code",
   "execution_count": 32,
   "metadata": {
    "collapsed": true
   },
   "outputs": [],
   "source": [
    "!head _skyout-annot.tab"
   ]
  },
  {
   "cell_type": "code",
   "execution_count": null,
   "metadata": {
    "collapsed": true
   },
   "outputs": [],
   "source": []
  }
 ],
 "metadata": {
  "kernelspec": {
   "display_name": "Python [default]",
   "language": "python",
   "name": "python3"
  },
  "language_info": {
   "codemirror_mode": {
    "name": "ipython",
    "version": 3
   },
   "file_extension": ".py",
   "mimetype": "text/x-python",
   "name": "python",
   "nbconvert_exporter": "python",
   "pygments_lexer": "ipython3",
   "version": "3.5.3"
  }
 },
 "nbformat": 4,
 "nbformat_minor": 2
}
