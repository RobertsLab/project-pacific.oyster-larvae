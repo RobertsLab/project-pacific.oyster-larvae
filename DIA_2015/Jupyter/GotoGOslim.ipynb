{
 "cells": [
  {
   "cell_type": "markdown",
   "metadata": {},
   "source": [
    "## In this notebook I will attempt to annotate my Skyline output with CGI... codes with GO slim categories"
   ]
  },
  {
   "cell_type": "markdown",
   "metadata": {},
   "source": [
    "I will need the following three files to do so:\n",
    "    \n",
    "1) Skyline output with CGI... codes from pivot table. This file has the summed area for each protein for each of the 4 samples\n",
    "https://github.com/RobertsLab/project-pacific.oyster-larvae/blob/master/DIA_2015/skylineoutput_area_pivottable.txt\n",
    "    \n",
    "2) Uniprot database with CGI codes and GO terms\n",
    "https://raw.githubusercontent.com/Ellior2/Fish-546-Bioinformatics/master/analyses/taylor/uniprot-cgi_GO.tab\n",
    "    \n",
    "3) GO to go slim file\n",
    "https://raw.githubusercontent.com/RobertsLab/project-pacific.oyster-larvae/master/DDA_2016/GO_slim/Gotogoslim.txt\n",
    "    \n",
    "Put all of these files in a wd"
   ]
  },
  {
   "cell_type": "code",
   "execution_count": 5,
   "metadata": {},
   "outputs": [
    {
     "data": {
      "text/plain": [
       "'C:\\\\Users\\\\Rhonda\\\\Desktop\\\\Backup\\\\Documents\\\\GitHub\\\\project-pacific.oyster-larvae\\\\DIA_2015\\\\Jupyter'"
      ]
     },
     "execution_count": 5,
     "metadata": {},
     "output_type": "execute_result"
    }
   ],
   "source": [
    "pwd"
   ]
  },
  {
   "cell_type": "code",
   "execution_count": 6,
   "metadata": {},
   "outputs": [
    {
     "name": "stdout",
     "output_type": "stream",
     "text": [
      "C:\\Users\\Rhonda\\Desktop\\Backup\\Documents\\Github\\project-pacific.oyster-larvae\\DIA_2015\\Goslim\n"
     ]
    }
   ],
   "source": [
    "cd C:/Users/Rhonda/Desktop/Backup/Documents/Github/project-pacific.oyster-larvae/DIA_2015/Goslim"
   ]
  },
  {
   "cell_type": "markdown",
   "metadata": {},
   "source": [
    "### Verifying that my three files are in my current working directory"
   ]
  },
  {
   "cell_type": "code",
   "execution_count": 7,
   "metadata": {},
   "outputs": [
    {
     "name": "stdout",
     "output_type": "stream",
     "text": [
      " Volume in drive C is TI106401W0D\n",
      " Volume Serial Number is D00E-CD8F\n",
      "\n",
      " Directory of C:\\Users\\Rhonda\\Desktop\\Backup\\Documents\\Github\\project-pacific.oyster-larvae\\DIA_2015\\Goslim\n",
      "\n",
      "07/25/2017  09:21 AM    <DIR>          .\n",
      "07/25/2017  09:21 AM    <DIR>          ..\n",
      "07/09/2017  10:15 PM         2,461,982 Gotogoslim.txt\n",
      "07/25/2017  09:11 AM           189,708 skylineoutput_area_pivottable.txt\n",
      "11/16/2016  10:43 PM         5,787,377 uniprot-cgi_GO.tab\n",
      "               3 File(s)      8,439,067 bytes\n",
      "               2 Dir(s)  379,180,838,912 bytes free\n"
     ]
    }
   ],
   "source": [
    "ls"
   ]
  },
  {
   "cell_type": "markdown",
   "metadata": {},
   "source": [
    "### Setting my working directory as a variable"
   ]
  },
  {
   "cell_type": "code",
   "execution_count": 8,
   "metadata": {
    "collapsed": true
   },
   "outputs": [],
   "source": [
    "wd=\"C:/Users/Rhonda/Desktop/Backup/Documents/Github/project-pacific.oyster-larvae/DIA_2015/Goslim\""
   ]
  },
  {
   "cell_type": "code",
   "execution_count": 9,
   "metadata": {},
   "outputs": [
    {
     "name": "stdout",
     "output_type": "stream",
     "text": [
      "C:\\Users\\Rhonda\\Desktop\\Backup\\Documents\\Github\\project-pacific.oyster-larvae\\DIA_2015\\Goslim\n"
     ]
    }
   ],
   "source": [
    "cd $wd"
   ]
  },
  {
   "cell_type": "markdown",
   "metadata": {},
   "source": [
    "### Setting my skyline output as a variable"
   ]
  },
  {
   "cell_type": "code",
   "execution_count": 19,
   "metadata": {
    "collapsed": true
   },
   "outputs": [],
   "source": [
    "skylineout=\"skylineoutput_area_pivottable.txt\""
   ]
  },
  {
   "cell_type": "code",
   "execution_count": 20,
   "metadata": {},
   "outputs": [
    {
     "data": {
      "text/plain": [
       "'C:\\\\Users\\\\Rhonda\\\\Desktop\\\\Backup\\\\Documents\\\\Github\\\\project-pacific.oyster-larvae\\\\DIA_2015\\\\Goslim'"
      ]
     },
     "execution_count": 20,
     "metadata": {},
     "output_type": "execute_result"
    }
   ],
   "source": [
    "pwd"
   ]
  },
  {
   "cell_type": "code",
   "execution_count": 21,
   "metadata": {},
   "outputs": [
    {
     "name": "stderr",
     "output_type": "stream",
     "text": [
      "'head' is not recognized as an internal or external command,\n",
      "operable program or batch file.\n"
     ]
    }
   ],
   "source": [
    "!head skylineout"
   ]
  },
  {
   "cell_type": "code",
   "execution_count": 22,
   "metadata": {},
   "outputs": [
    {
     "name": "stderr",
     "output_type": "stream",
     "text": [
      "'head' is not recognized as an internal or external command,\n",
      "operable program or batch file.\n"
     ]
    }
   ],
   "source": [
    "!head skylineoutput_area_pivottable.txt"
   ]
  },
  {
   "cell_type": "code",
   "execution_count": 24,
   "metadata": {},
   "outputs": [
    {
     "ename": "SyntaxError",
     "evalue": "invalid syntax (<ipython-input-24-b011780f23f2>, line 1)",
     "output_type": "error",
     "traceback": [
      "\u001b[1;36m  File \u001b[1;32m\"<ipython-input-24-b011780f23f2>\"\u001b[1;36m, line \u001b[1;32m1\u001b[0m\n\u001b[1;33m    head skylineout\u001b[0m\n\u001b[1;37m                  ^\u001b[0m\n\u001b[1;31mSyntaxError\u001b[0m\u001b[1;31m:\u001b[0m invalid syntax\n"
     ]
    }
   ],
   "source": [
    "head skylineout"
   ]
  },
  {
   "cell_type": "code",
   "execution_count": 25,
   "metadata": {},
   "outputs": [
    {
     "name": "stdout",
     "output_type": "stream",
     "text": [
      " Volume in drive C is TI106401W0D\n",
      " Volume Serial Number is D00E-CD8F\n",
      "\n",
      " Directory of C:\\Users\\Rhonda\\Desktop\\Backup\\Documents\\Github\\project-pacific.oyster-larvae\\DIA_2015\\Goslim\n",
      "\n",
      "07/25/2017  09:21 AM    <DIR>          .\n",
      "07/25/2017  09:21 AM    <DIR>          ..\n",
      "07/09/2017  10:15 PM         2,461,982 Gotogoslim.txt\n",
      "07/25/2017  09:11 AM           189,708 skylineoutput_area_pivottable.txt\n",
      "11/16/2016  10:43 PM         5,787,377 uniprot-cgi_GO.tab\n",
      "               3 File(s)      8,439,067 bytes\n",
      "               2 Dir(s)  378,919,178,240 bytes free\n"
     ]
    }
   ],
   "source": [
    "ls"
   ]
  }
 ],
 "metadata": {
  "kernelspec": {
   "display_name": "Python 3",
   "language": "python",
   "name": "python3"
  },
  "language_info": {
   "codemirror_mode": {
    "name": "ipython",
    "version": 3
   },
   "file_extension": ".py",
   "mimetype": "text/x-python",
   "name": "python",
   "nbconvert_exporter": "python",
   "pygments_lexer": "ipython3",
   "version": "3.6.1"
  }
 },
 "nbformat": 4,
 "nbformat_minor": 2
}
