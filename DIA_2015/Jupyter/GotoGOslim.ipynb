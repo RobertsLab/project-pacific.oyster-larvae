{
 "cells": [
  {
   "cell_type": "markdown",
   "metadata": {},
   "source": [
    "## In this notebook I will attempt to annotate my Skyline output with CGI... codes with GO slim categories"
   ]
  },
  {
   "cell_type": "markdown",
   "metadata": {},
   "source": [
    "I will need the following three files to do so:\n",
    "    \n",
    "1) Skyline output with CGI... codes from pivot table. This file has the summed area for each protein for each of the 4 samples\n",
    "https://github.com/RobertsLab/project-pacific.oyster-larvae/blob/master/DIA_2015/skylineoutput_area_pivottable.txt\n",
    "    \n",
    "2) Uniprot database with CGI codes and GO terms\n",
    "https://raw.githubusercontent.com/Ellior2/Fish-546-Bioinformatics/master/analyses/taylor/uniprot-cgi_GO.tab\n",
    "    \n",
    "3) GO to go slim file\n",
    "https://raw.githubusercontent.com/RobertsLab/project-pacific.oyster-larvae/master/DDA_2016/GO_slim/Gotogoslim.txt\n",
    "    \n",
    "Put all of these files in a wd"
   ]
  },
  {
   "cell_type": "code",
   "execution_count": null,
   "metadata": {
    "collapsed": true
   },
   "outputs": [],
   "source": []
  }
 ],
 "metadata": {
  "kernelspec": {
   "display_name": "Python 3",
   "language": "python",
   "name": "python3"
  },
  "language_info": {
   "codemirror_mode": {
    "name": "ipython",
    "version": 3
   },
   "file_extension": ".py",
   "mimetype": "text/x-python",
   "name": "python",
   "nbconvert_exporter": "python",
   "pygments_lexer": "ipython3",
   "version": "3.6.1"
  }
 },
 "nbformat": 4,
 "nbformat_minor": 2
}
